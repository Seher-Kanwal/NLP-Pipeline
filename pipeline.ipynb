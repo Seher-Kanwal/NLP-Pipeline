{
 "cells": [
  {
   "cell_type": "markdown",
   "id": "56d58ed0",
   "metadata": {},
   "source": [
    "### In NLP, the pipeline is the concept of integrating various text processing components together such that, the output of one component serves as the input for the next component. Spacy provides built-in functionality of pipelines that can be set up quite easily\n",
    "https://machinelearningknowledge.ai/spacy-nlp-pipeline-tutorial-for-beginners/"
   ]
  },
  {
   "cell_type": "code",
   "execution_count": 1,
   "id": "1a0c3bd7",
   "metadata": {},
   "outputs": [],
   "source": [
    "import spacy\n",
    "nlp = spacy.blank('en')"
   ]
  },
  {
   "cell_type": "code",
   "execution_count": 2,
   "id": "d2beba9a",
   "metadata": {},
   "outputs": [
    {
     "name": "stdout",
     "output_type": "stream",
     "text": [
      "Captain\n",
      "america\n",
      "ate\n",
      "100\n",
      "$\n",
      "of\n",
      "samosa\n",
      ".\n",
      "Then\n",
      "he\n",
      "said\n",
      "I\n",
      "can\n",
      "do\n",
      "this\n",
      "all\n",
      "day\n",
      ".\n"
     ]
    }
   ],
   "source": [
    "doc = nlp(\"Captain america ate 100$ of samosa. Then he said I can do this all day.\")\n",
    "for token in doc:\n",
    "    print(token)"
   ]
  },
  {
   "cell_type": "code",
   "execution_count": 3,
   "id": "9366fc33",
   "metadata": {},
   "outputs": [
    {
     "data": {
      "text/plain": [
       "[]"
      ]
     },
     "execution_count": 3,
     "metadata": {},
     "output_type": "execute_result"
    }
   ],
   "source": [
    "nlp.pipeline"
   ]
  },
  {
   "cell_type": "markdown",
   "id": "d0b709f6",
   "metadata": {},
   "source": [
    "### We have an empty blank pipeline so we didn't get it any info about different properties"
   ]
  },
  {
   "cell_type": "code",
   "execution_count": 4,
   "id": "e75c3138",
   "metadata": {},
   "outputs": [
    {
     "name": "stdout",
     "output_type": "stream",
     "text": [
      "Captain  |    |  None\n",
      "america  |    |  None\n",
      "ate  |    |  None\n",
      "100  |    |  None\n",
      "$  |    |  None\n",
      "of  |    |  None\n",
      "samosa  |    |  None\n",
      ".  |    |  None\n",
      "Then  |    |  None\n",
      "he  |    |  None\n",
      "said  |    |  None\n",
      "I  |    |  None\n",
      "can  |    |  None\n",
      "do  |    |  None\n",
      "this  |    |  None\n",
      "all  |    |  None\n",
      "day  |    |  None\n",
      ".  |    |  None\n"
     ]
    },
    {
     "name": "stderr",
     "output_type": "stream",
     "text": [
      "C:\\Users\\seher\\anaconda3\\lib\\site-packages\\spacy\\glossary.py:19: UserWarning: [W118] Term '' not found in glossary. It may however be explained in documentation for the corpora used to train the language. Please check `nlp.meta[\"sources\"]` for any relevant links.\n",
      "  warnings.warn(Warnings.W118.format(term=term))\n"
     ]
    }
   ],
   "source": [
    "doc = nlp(\"Captain america ate 100$ of samosa. Then he said I can do this all day.\")\n",
    "for token in doc:\n",
    "    print(token,\" | \",token.lemma_,\" | \",spacy.explain(token.pos_))"
   ]
  },
  {
   "cell_type": "markdown",
   "id": "657a6d5e",
   "metadata": {},
   "source": [
    "### tagger\t(Tagger)\t                        Assign part-of-speech-tags.\n",
    "### parser\t(DependencyParser)\t     Assign dependency labels.\n",
    "### ner\t(EntityRecognizer)\t               Assign named entities.\n",
    "### lemmatizer\t(Lemmatizer)\t        Assign base forms to words."
   ]
  },
  {
   "cell_type": "code",
   "execution_count": 5,
   "id": "32667c57",
   "metadata": {},
   "outputs": [
    {
     "data": {
      "text/plain": [
       "[('tok2vec', <spacy.pipeline.tok2vec.Tok2Vec at 0x2302ec56d60>),\n",
       " ('tagger', <spacy.pipeline.tagger.Tagger at 0x2302ec56c40>),\n",
       " ('parser', <spacy.pipeline.dep_parser.DependencyParser at 0x2302eac7200>),\n",
       " ('attribute_ruler',\n",
       "  <spacy.pipeline.attributeruler.AttributeRuler at 0x2302ece2a40>),\n",
       " ('lemmatizer', <spacy.lang.en.lemmatizer.EnglishLemmatizer at 0x2302eceba40>),\n",
       " ('ner', <spacy.pipeline.ner.EntityRecognizer at 0x2302eac76d0>)]"
      ]
     },
     "execution_count": 5,
     "metadata": {},
     "output_type": "execute_result"
    }
   ],
   "source": [
    "nlp = spacy.load(\"en_core_web_sm\")\n",
    "nlp.pipeline"
   ]
  },
  {
   "cell_type": "code",
   "execution_count": 6,
   "id": "d143d6cf",
   "metadata": {},
   "outputs": [
    {
     "name": "stdout",
     "output_type": "stream",
     "text": [
      "Captain  |  Captain  |  proper noun\n",
      "america  |  america  |  proper noun\n",
      "ate  |  eat  |  verb\n",
      "100  |  100  |  numeral\n",
      "$  |  $  |  noun\n",
      "of  |  of  |  adposition\n",
      "samosa  |  samosa  |  proper noun\n",
      ".  |  .  |  punctuation\n",
      "Then  |  then  |  adverb\n",
      "he  |  he  |  pronoun\n",
      "said  |  say  |  verb\n",
      "I  |  I  |  pronoun\n",
      "can  |  can  |  auxiliary\n",
      "do  |  do  |  verb\n",
      "this  |  this  |  pronoun\n",
      "all  |  all  |  determiner\n",
      "day  |  day  |  noun\n",
      ".  |  .  |  punctuation\n"
     ]
    }
   ],
   "source": [
    "doc = nlp(\"Captain america ate 100$ of samosa. Then he said I can do this all day.\")\n",
    "for token in doc:\n",
    "    print(token,\" | \",token.lemma_,\" | \",spacy.explain(token.pos_))"
   ]
  },
  {
   "cell_type": "markdown",
   "id": "48d2ca07",
   "metadata": {},
   "source": [
    " # Named Entity\n",
    " #### A named entity is a proper noun that refers to a specific entity like location, person, organization, etc. For example, in the sentence “Elon Musk is the owner of Tesla”, Elon Musk and Tesla are named entities.\n",
    " \n",
    " we are running a loop in ner, and we simple display Entity and than display its label and after that we display the details"
   ]
  },
  {
   "cell_type": "code",
   "execution_count": 9,
   "id": "f88a8273",
   "metadata": {},
   "outputs": [
    {
     "name": "stdout",
     "output_type": "stream",
     "text": [
      "Tesla Inc  |  ORG  |   Companies, agencies, institutions, etc.\n",
      "$45 billion  |  MONEY  |   Monetary values, including unit\n"
     ]
    }
   ],
   "source": [
    "doc = nlp(\"Tesla Inc is going to acquire twitter for $45 billion\")\n",
    "for ent in doc.ents:\n",
    "    print(ent.text ,\" | \", ent.label_, \" |  \",spacy.explain(ent.label_))"
   ]
  },
  {
   "cell_type": "markdown",
   "id": "859bc04e",
   "metadata": {},
   "source": [
    "### Here we can import displacy and render it to show the details in some graphical form "
   ]
  },
  {
   "cell_type": "code",
   "execution_count": 19,
   "id": "518bd688",
   "metadata": {
    "scrolled": true
   },
   "outputs": [
    {
     "data": {
      "text/html": [
       "<span class=\"tex2jax_ignore\"><div class=\"entities\" style=\"line-height: 2.5; direction: ltr\">\n",
       "<mark class=\"entity\" style=\"background: #7aecec; padding: 0.45em 0.6em; margin: 0 0.25em; line-height: 1; border-radius: 0.35em;\">\n",
       "    Tesla Inc\n",
       "    <span style=\"font-size: 0.8em; font-weight: bold; line-height: 1; border-radius: 0.35em; vertical-align: middle; margin-left: 0.5rem\">ORG</span>\n",
       "</mark>\n",
       " is going to acquire twitter for \n",
       "<mark class=\"entity\" style=\"background: #e4e7d2; padding: 0.45em 0.6em; margin: 0 0.25em; line-height: 1; border-radius: 0.35em;\">\n",
       "    $45 billion\n",
       "    <span style=\"font-size: 0.8em; font-weight: bold; line-height: 1; border-radius: 0.35em; vertical-align: middle; margin-left: 0.5rem\">MONEY</span>\n",
       "</mark>\n",
       "</div></span>"
      ],
      "text/plain": [
       "<IPython.core.display.HTML object>"
      ]
     },
     "metadata": {},
     "output_type": "display_data"
    }
   ],
   "source": [
    "from spacy import displacy\n",
    "displacy.render(doc, style = \"ent\")"
   ]
  },
  {
   "cell_type": "markdown",
   "id": "c8f3526b",
   "metadata": {},
   "source": [
    "# Adding a Component to the blank pipeline"
   ]
  },
  {
   "cell_type": "code",
   "execution_count": 25,
   "id": "3d83de6f",
   "metadata": {},
   "outputs": [
    {
     "data": {
      "text/plain": [
       "[]"
      ]
     },
     "execution_count": 25,
     "metadata": {},
     "output_type": "execute_result"
    }
   ],
   "source": [
    "components = spacy.load(\"en_core_web_sm\")\n",
    "nlp = spacy.blank('en')\n",
    "nlp.pipeline"
   ]
  },
  {
   "cell_type": "markdown",
   "id": "e8bc0647",
   "metadata": {},
   "source": [
    "#### here we got a fn that add a componet from the componets given in the source"
   ]
  },
  {
   "cell_type": "code",
   "execution_count": 26,
   "id": "32d7b2ec",
   "metadata": {},
   "outputs": [
    {
     "data": {
      "text/plain": [
       "['ner']"
      ]
     },
     "execution_count": 26,
     "metadata": {},
     "output_type": "execute_result"
    }
   ],
   "source": [
    "nlp.add_pipe(\"ner\", source = components)\n",
    "nlp.pipe_names"
   ]
  }
 ],
 "metadata": {
  "kernelspec": {
   "display_name": "Python 3 (ipykernel)",
   "language": "python",
   "name": "python3"
  },
  "language_info": {
   "codemirror_mode": {
    "name": "ipython",
    "version": 3
   },
   "file_extension": ".py",
   "mimetype": "text/x-python",
   "name": "python",
   "nbconvert_exporter": "python",
   "pygments_lexer": "ipython3",
   "version": "3.9.12"
  }
 },
 "nbformat": 4,
 "nbformat_minor": 5
}
